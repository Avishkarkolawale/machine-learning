{
  "nbformat": 4,
  "nbformat_minor": 0,
  "metadata": {
    "colab": {
      "provenance": [],
      "authorship_tag": "ABX9TyOGoA4d3dDPSp9X0dxmz2Qr",
      "include_colab_link": true
    },
    "kernelspec": {
      "name": "python3",
      "display_name": "Python 3"
    },
    "language_info": {
      "name": "python"
    }
  },
  "cells": [
    {
      "cell_type": "markdown",
      "metadata": {
        "id": "view-in-github",
        "colab_type": "text"
      },
      "source": [
        "<a href=\"https://colab.research.google.com/github/Avishkarkolawale/machine-learning/blob/main/bubble_sort.ipynb\" target=\"_parent\"><img src=\"https://colab.research.google.com/assets/colab-badge.svg\" alt=\"Open In Colab\"/></a>"
      ]
    },
    {
      "cell_type": "code",
      "execution_count": null,
      "metadata": {
        "id": "hD1zqsTWLWcG"
      },
      "outputs": [],
      "source": []
    },
    {
      "cell_type": "markdown",
      "source": [
        "bubble sort"
      ],
      "metadata": {
        "id": "2tEI-PXULYCI"
      }
    },
    {
      "cell_type": "code",
      "source": [],
      "metadata": {
        "id": "VGTVHPiULZWf"
      },
      "execution_count": null,
      "outputs": []
    },
    {
      "cell_type": "code",
      "source": [
        "def bubbleSort(array):\n",
        "    \n",
        "  \n",
        "  for i in range(len(array)):\n",
        "\n",
        "    for j in range(0, len(array) - i - 1):\n",
        "\n",
        "      \n",
        "      if array[j] > array[j + 1]:\n",
        "\n",
        "        \n",
        "        temp = array[j]\n",
        "        array[j] = array[j+1]\n",
        "        array[j+1] = temp\n",
        "\n",
        "\n",
        "data = [34,78,56,5,4]\n",
        "\n",
        "bubbleSort(data)\n",
        "\n",
        "print('Sorted Array in Ascending Order:')\n",
        "print(data)"
      ],
      "metadata": {
        "colab": {
          "base_uri": "https://localhost:8080/"
        },
        "id": "AwCHT9LPLbsm",
        "outputId": "e0e2253c-a1f5-4aab-9cd9-f54d13f394be"
      },
      "execution_count": 1,
      "outputs": [
        {
          "output_type": "stream",
          "name": "stdout",
          "text": [
            "Sorted Array in Ascending Order:\n",
            "[4, 5, 34, 56, 78]\n"
          ]
        }
      ]
    },
    {
      "cell_type": "code",
      "source": [
        "text = [\"1\",\"2\",\"3\"]\n",
        "text.append(\"7\")\n",
        "print(text)"
      ],
      "metadata": {
        "colab": {
          "base_uri": "https://localhost:8080/"
        },
        "id": "K7nFA8BUQSMU",
        "outputId": "6cbf9107-3730-4d8e-ffc9-2c0f2ecdcaa9"
      },
      "execution_count": 13,
      "outputs": [
        {
          "output_type": "stream",
          "name": "stdout",
          "text": [
            "['1', '2', '3', '7']\n"
          ]
        }
      ]
    },
    {
      "cell_type": "code",
      "source": [
        "arr = [25, 11, 94, 75, 56,37,87];       \n",
        "    \n",
        "min = arr[0];    \n",
        "\n",
        "for i in range(0, len(arr)):    \n",
        "\n",
        "   if(arr[i] < min):    \n",
        "       min = arr[i];    \n",
        "temp = min\n",
        "arr.remove(min)\n",
        "pos = len(arr)\n",
        "ind = int(pos/2)  \n",
        "arr.insert(ind,int(min))\n",
        "\n",
        "print(arr)"
      ],
      "metadata": {
        "colab": {
          "base_uri": "https://localhost:8080/"
        },
        "id": "ipKCjpcbR9vw",
        "outputId": "75b59357-1c3d-4f54-b032-048022fd4c66"
      },
      "execution_count": 30,
      "outputs": [
        {
          "output_type": "stream",
          "name": "stdout",
          "text": [
            "[25, 94, 75, 11, 56, 37, 87]\n"
          ]
        }
      ]
    }
  ]
}