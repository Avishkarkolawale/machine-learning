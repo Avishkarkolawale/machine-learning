{
  "nbformat": 4,
  "nbformat_minor": 0,
  "metadata": {
    "colab": {
      "provenance": [],
      "authorship_tag": "ABX9TyNm4ckQUlhQBe8Owzv9A3X1",
      "include_colab_link": true
    },
    "kernelspec": {
      "name": "python3",
      "display_name": "Python 3"
    },
    "language_info": {
      "name": "python"
    }
  },
  "cells": [
    {
      "cell_type": "markdown",
      "metadata": {
        "id": "view-in-github",
        "colab_type": "text"
      },
      "source": [
        "<a href=\"https://colab.research.google.com/github/Avishkarkolawale/machine-learning/blob/main/bubble_sort.ipynb\" target=\"_parent\"><img src=\"https://colab.research.google.com/assets/colab-badge.svg\" alt=\"Open In Colab\"/></a>"
      ]
    },
    {
      "cell_type": "code",
      "execution_count": null,
      "metadata": {
        "id": "hD1zqsTWLWcG"
      },
      "outputs": [],
      "source": []
    },
    {
      "cell_type": "markdown",
      "source": [
        "bubble sort"
      ],
      "metadata": {
        "id": "2tEI-PXULYCI"
      }
    },
    {
      "cell_type": "code",
      "source": [],
      "metadata": {
        "id": "VGTVHPiULZWf"
      },
      "execution_count": null,
      "outputs": []
    },
    {
      "cell_type": "code",
      "source": [
        "def bubbleSort(array):\n",
        "    \n",
        "  \n",
        "  for i in range(len(array)):\n",
        "\n",
        "    for j in range(0, len(array) - i - 1):\n",
        "\n",
        "      \n",
        "      if array[j] > array[j + 1]:\n",
        "\n",
        "        \n",
        "        temp = array[j]\n",
        "        array[j] = array[j+1]\n",
        "        array[j+1] = temp\n",
        "\n",
        "\n",
        "data = [34,78,56,5,4]\n",
        "\n",
        "bubbleSort(data)\n",
        "\n",
        "print(data)\n",
        "\n",
        "min = data[0]\n",
        "for  k in range(0, len(data)):\n",
        "  if(data[k]<min):\n",
        "      min = data[k]\n",
        "print(min)\n",
        "temp = min\n",
        "data.remove(min)\n",
        "pos = len(data)\n",
        "ind = int(pos/2)\n",
        "data.insert(ind,int(temp))\n",
        "print(data)"
      ],
      "metadata": {
        "colab": {
          "base_uri": "https://localhost:8080/"
        },
        "id": "AwCHT9LPLbsm",
        "outputId": "d7c24724-612a-46e1-a3f1-ccf31b829ee6"
      },
      "execution_count": 36,
      "outputs": [
        {
          "output_type": "stream",
          "name": "stdout",
          "text": [
            "[4, 5, 34, 56, 78]\n",
            "4\n",
            "[5, 34, 4, 56, 78]\n"
          ]
        }
      ]
    },
    {
      "cell_type": "code",
      "source": [
        "arr = [25, 11, 94, 75, 56,37,87];       \n",
        "    \n",
        "min = arr[0];    \n",
        "\n",
        "for i in range(0, len(arr)):    \n",
        "\n",
        "   if(arr[i] < min):    \n",
        "       min = arr[i];    \n",
        "temp = min\n",
        "arr.remove(min)\n",
        "pos = len(arr)\n",
        "ind = int(pos/2)  \n",
        "arr.insert(ind,int(temp))\n",
        "\n",
        "print(arr)"
      ],
      "metadata": {
        "colab": {
          "base_uri": "https://localhost:8080/"
        },
        "id": "ipKCjpcbR9vw",
        "outputId": "51f2c6f9-2dca-4a88-ca7b-b321b89911ba"
      },
      "execution_count": 35,
      "outputs": [
        {
          "output_type": "stream",
          "name": "stdout",
          "text": [
            "[25, 94, 75, 11, 56, 37, 87]\n"
          ]
        }
      ]
    }
  ]
}